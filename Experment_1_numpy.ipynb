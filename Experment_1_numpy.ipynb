{
  "nbformat": 4,
  "nbformat_minor": 0,
  "metadata": {
    "colab": {
      "name": "Experment-1 numpy",
      "provenance": [],
      "authorship_tag": "ABX9TyNC1FnqZHxSTS8LFxiuJRAH",
      "include_colab_link": true
    },
    "kernelspec": {
      "name": "python3",
      "display_name": "Python 3"
    }
  },
  "cells": [
    {
      "cell_type": "markdown",
      "metadata": {
        "id": "view-in-github",
        "colab_type": "text"
      },
      "source": [
        "<a href=\"https://colab.research.google.com/github/19PA1A0269/AI-lab/blob/master/Experment_1_numpy.ipynb\" target=\"_parent\"><img src=\"https://colab.research.google.com/assets/colab-badge.svg\" alt=\"Open In Colab\"/></a>"
      ]
    },
    {
      "cell_type": "code",
      "metadata": {
        "id": "m8wrsKUI2P1b",
        "colab_type": "code",
        "colab": {}
      },
      "source": [
        ""
      ],
      "execution_count": null,
      "outputs": []
    },
    {
      "cell_type": "markdown",
      "metadata": {
        "id": "dN7OeqEZ2VUb",
        "colab_type": "text"
      },
      "source": [
        "# experiment-1 numpy"
      ]
    },
    {
      "cell_type": "code",
      "metadata": {
        "id": "5faPuyBX2vCq",
        "colab_type": "code",
        "colab": {}
      },
      "source": [
        "import numpy as mp"
      ],
      "execution_count": null,
      "outputs": []
    },
    {
      "cell_type": "markdown",
      "metadata": {
        "id": "5NkyHQAb3Dt1",
        "colab_type": "text"
      },
      "source": [
        "## Different ways to create numpy"
      ]
    },
    {
      "cell_type": "markdown",
      "metadata": {
        "id": "SgJ7Lxrjp0Dk",
        "colab_type": "text"
      },
      "source": [
        "###   Creating numpy by using list"
      ]
    },
    {
      "cell_type": "code",
      "metadata": {
        "id": "_dyiJIv63dXE",
        "colab_type": "code",
        "colab": {
          "base_uri": "https://localhost:8080/",
          "height": 34
        },
        "outputId": "9737826b-eb08-46da-c11f-b97099687e10"
      },
      "source": [
        "a=mp.array([1,2,3])\n",
        "print(a)"
      ],
      "execution_count": null,
      "outputs": [
        {
          "output_type": "stream",
          "text": [
            "[1 2 3]\n"
          ],
          "name": "stdout"
        }
      ]
    },
    {
      "cell_type": "code",
      "metadata": {
        "id": "3x3T5Shz6Nc7",
        "colab_type": "code",
        "colab": {
          "base_uri": "https://localhost:8080/",
          "height": 51
        },
        "outputId": "10c750ff-2298-4656-bd46-cae04bb092cd"
      },
      "source": [
        "b=mp.array([[1,2,3],[4,5,6]])\n",
        "print(b)"
      ],
      "execution_count": null,
      "outputs": [
        {
          "output_type": "stream",
          "text": [
            "[[1 2 3]\n",
            " [4 5 6]]\n"
          ],
          "name": "stdout"
        }
      ]
    },
    {
      "cell_type": "markdown",
      "metadata": {
        "id": "F_ETLPrz7h2F",
        "colab_type": "text"
      },
      "source": [
        "##  Add remove modify elements in an array"
      ]
    },
    {
      "cell_type": "markdown",
      "metadata": {
        "id": "G1AkfkxOqbRZ",
        "colab_type": "text"
      },
      "source": [
        " ### Adding elements in an arrays"
      ]
    },
    {
      "cell_type": "code",
      "metadata": {
        "id": "qHn1WRcM7yRc",
        "colab_type": "code",
        "colab": {
          "base_uri": "https://localhost:8080/",
          "height": 34
        },
        "outputId": "3292b702-d291-4ee5-dd3c-4bc584e8b1ec"
      },
      "source": [
        "p=mp.append([1,2,3,4],a)\n",
        "print(p)"
      ],
      "execution_count": null,
      "outputs": [
        {
          "output_type": "stream",
          "text": [
            "[1 2 3 4 1 2 3]\n"
          ],
          "name": "stdout"
        }
      ]
    },
    {
      "cell_type": "markdown",
      "metadata": {
        "id": "Xvv7_YzRq61m",
        "colab_type": "text"
      },
      "source": [
        "### Remove elements in an array"
      ]
    },
    {
      "cell_type": "code",
      "metadata": {
        "id": "BXz5WhZw9C7Z",
        "colab_type": "code",
        "colab": {
          "base_uri": "https://localhost:8080/",
          "height": 34
        },
        "outputId": "883e3231-ec41-4ce0-f271-89d2b08fa6db"
      },
      "source": [
        "p=mp.array([[1,2,3,5],[6,7,8]])\n",
        "print(p)"
      ],
      "execution_count": null,
      "outputs": [
        {
          "output_type": "stream",
          "text": [
            "[list([1, 2, 3, 5]) list([6, 7, 8])]\n"
          ],
          "name": "stdout"
        }
      ]
    },
    {
      "cell_type": "code",
      "metadata": {
        "id": "YT6foclnrWzM",
        "colab_type": "code",
        "colab": {
          "base_uri": "https://localhost:8080/",
          "height": 54
        },
        "outputId": "3dbfe653-67d1-49f6-cfd3-fb099045a890"
      },
      "source": [
        "mp.delete(p,1,0)"
      ],
      "execution_count": 30,
      "outputs": [
        {
          "output_type": "execute_result",
          "data": {
            "text/plain": [
              "array([list([1, 2, 3, 5])], dtype=object)"
            ]
          },
          "metadata": {
            "tags": []
          },
          "execution_count": 30
        }
      ]
    },
    {
      "cell_type": "markdown",
      "metadata": {
        "id": "74ld4QqfWEFb",
        "colab_type": "text"
      },
      "source": [
        "### Modify elements in array"
      ]
    },
    {
      "cell_type": "code",
      "metadata": {
        "id": "o0oxgal1WQLN",
        "colab_type": "code",
        "colab": {
          "base_uri": "https://localhost:8080/",
          "height": 68
        },
        "outputId": "fef6843c-9124-461c-e648-3ab53a20229b"
      },
      "source": [
        "q=mp.array([[0.567,0.678,0.243],[0.975,0.912,0.134],[0.589,0.147,0.129]])\n",
        "q[q>0.5]=0.1\n",
        "print(q)"
      ],
      "execution_count": null,
      "outputs": [
        {
          "output_type": "stream",
          "text": [
            "[[0.1   0.1   0.243]\n",
            " [0.1   0.1   0.134]\n",
            " [0.1   0.147 0.129]]\n"
          ],
          "name": "stdout"
        }
      ]
    },
    {
      "cell_type": "markdown",
      "metadata": {
        "id": "61u9x-BUY1Hh",
        "colab_type": "text"
      },
      "source": [
        "### Arithmetic operations on numpy arrays"
      ]
    },
    {
      "cell_type": "code",
      "metadata": {
        "id": "eo0ZAOSiZOuX",
        "colab_type": "code",
        "colab": {
          "base_uri": "https://localhost:8080/",
          "height": 51
        },
        "outputId": "dc64e9c8-06c0-4342-fdf1-c08c3debb8a6"
      },
      "source": [
        "f=mp.random.randint(50,size=3)\n",
        "g=mp.random.randint(50,size=3)\n",
        "print(f)\n",
        "print(g)"
      ],
      "execution_count": null,
      "outputs": [
        {
          "output_type": "stream",
          "text": [
            "[38 40 11]\n",
            "[10 25 24]\n"
          ],
          "name": "stdout"
        }
      ]
    },
    {
      "cell_type": "code",
      "metadata": {
        "id": "Khr6tdO5ame5",
        "colab_type": "code",
        "colab": {
          "base_uri": "https://localhost:8080/",
          "height": 102
        },
        "outputId": "e62a8b9d-c275-484f-ec01-73ddbb444229"
      },
      "source": [
        "sum=mp.add(f,g)\n",
        "row=mp.multiply(f,g)\n",
        "sub=mp.subtract(f,g)\n",
        "div=mp.divide(f,g)\n",
        "mod=mp.mod(f,g)\n",
        "print(sum)\n",
        "print(row)\n",
        "print(sub)\n",
        "print(div)\n",
        "print(mod)"
      ],
      "execution_count": null,
      "outputs": [
        {
          "output_type": "stream",
          "text": [
            "[48 65 35]\n",
            "[ 380 1000  264]\n",
            "[ 28  15 -13]\n",
            "[3.8        1.6        0.45833333]\n",
            "[ 8 15 11]\n"
          ],
          "name": "stdout"
        }
      ]
    },
    {
      "cell_type": "markdown",
      "metadata": {
        "id": "pupl8Sr4c044",
        "colab_type": "text"
      },
      "source": [
        " ## slicing and iterating of numpy array"
      ]
    },
    {
      "cell_type": "markdown",
      "metadata": {
        "id": "wsK3mMz1srPY",
        "colab_type": "text"
      },
      "source": [
        "### slicing the numpy arrays"
      ]
    },
    {
      "cell_type": "code",
      "metadata": {
        "id": "g0MWRSf1s90C",
        "colab_type": "code",
        "colab": {
          "base_uri": "https://localhost:8080/",
          "height": 34
        },
        "outputId": "dabf6044-3937-422d-dfc9-c2d3a3ea3ba3"
      },
      "source": [
        "a=mp.array([1,2,3,4,5,6,7,8,9])\n",
        "print(a[0:5])"
      ],
      "execution_count": 31,
      "outputs": [
        {
          "output_type": "stream",
          "text": [
            "[1 2 3 4 5]\n"
          ],
          "name": "stdout"
        }
      ]
    },
    {
      "cell_type": "code",
      "metadata": {
        "id": "IgPbpolYt275",
        "colab_type": "code",
        "colab": {
          "base_uri": "https://localhost:8080/",
          "height": 34
        },
        "outputId": "92ff6e42-15e4-47d0-df38-d3469d5adc96"
      },
      "source": [
        "b=mp.array([1,2,3,4,5,6,7,8,9,0])\n",
        "print(b[0:5:2])"
      ],
      "execution_count": 33,
      "outputs": [
        {
          "output_type": "stream",
          "text": [
            "[1 3 5]\n"
          ],
          "name": "stdout"
        }
      ]
    },
    {
      "cell_type": "markdown",
      "metadata": {
        "id": "8O33DlUitY-6",
        "colab_type": "text"
      },
      "source": [
        "### Iterating the numpy array"
      ]
    },
    {
      "cell_type": "code",
      "metadata": {
        "id": "n7Y0dPtAtjN1",
        "colab_type": "code",
        "colab": {
          "base_uri": "https://localhost:8080/",
          "height": 51
        },
        "outputId": "7993a77d-d261-4364-91ab-c08a1c0492c8"
      },
      "source": [
        "b=mp.array([[1,2,3],[4,5,6]])\n",
        "for n in b:\n",
        " print(n)"
      ],
      "execution_count": 35,
      "outputs": [
        {
          "output_type": "stream",
          "text": [
            "[1 2 3]\n",
            "[4 5 6]\n"
          ],
          "name": "stdout"
        }
      ]
    },
    {
      "cell_type": "code",
      "metadata": {
        "id": "CCXisCtduvhw",
        "colab_type": "code",
        "colab": {
          "base_uri": "https://localhost:8080/",
          "height": 170
        },
        "outputId": "ab22d9af-946c-483a-85ea-ff0744743ddc"
      },
      "source": [
        "d=([1,2,3,4,5,6,7,8,9])\n",
        "for q in d:\n",
        " print(q)"
      ],
      "execution_count": 37,
      "outputs": [
        {
          "output_type": "stream",
          "text": [
            "1\n",
            "2\n",
            "3\n",
            "4\n",
            "5\n",
            "6\n",
            "7\n",
            "8\n",
            "9\n"
          ],
          "name": "stdout"
        }
      ]
    },
    {
      "cell_type": "markdown",
      "metadata": {
        "id": "AwBNZ17LvL8T",
        "colab_type": "text"
      },
      "source": [
        "## Matrix Operaters in numpy"
      ]
    },
    {
      "cell_type": "code",
      "metadata": {
        "id": "lZ_zJDOsvfIt",
        "colab_type": "code",
        "colab": {
          "base_uri": "https://localhost:8080/",
          "height": 139
        },
        "outputId": "7d5f4fff-86cf-4123-83f1-c3f0e3852200"
      },
      "source": [
        "a=mp.array([1,2,3,4])\n",
        "b=mp.array([5,6,7,8])\n",
        "sum=mp.add(a,b)\n",
        "sub=mp.subtract(a,b)\n",
        "pro=mp.multiply(a,b)\n",
        "div=mp.divide(a,b)\n",
        "print(a)\n",
        "print(b)\n",
        "print(sum)\n",
        "print(sub)\n",
        "print(pro)\n",
        "print(div)"
      ],
      "execution_count": 39,
      "outputs": [
        {
          "output_type": "stream",
          "text": [
            "[1 2 3 4]\n",
            "[5 6 7 8]\n",
            "[ 6  8 10 12]\n",
            "[-4 -4 -4 -4]\n",
            "[ 5 12 21 32]\n",
            "[0.2        0.33333333 0.42857143 0.5       ]\n"
          ],
          "name": "stdout"
        }
      ]
    }
  ]
}